{
 "cells": [
  {
   "cell_type": "markdown",
   "id": "53584db8",
   "metadata": {},
   "source": [
    "# NEARCoder2-3B compared evaluation\n",
    "\n",
    "The NEARCoder is built on StarCoder2-3B. In this notebook, we are evaluating the model performance by comparing it with the baseline model and each of the building steps:\n",
    "- [StarCoder2-3B](https://huggingface.co/bigcode/starcoder2-3b)\n",
    "- [NEAR-preTrainedStarCoder2](https://huggingface.co/jcarbonnell/NEAR-preTrainedStarCoder2)\n",
    "- [NEAR-structTunedStarCoder2](https://huggingface.co/jcarbonnell/NEAR-structTunedStarcoder2)\n",
    "- [NEARCoder-3b](https://huggingface.co/jcarbonnell/NEARCoder-3b)\n",
    "\n",
    "Our primary focus will be to ensure that the model doesn't lose performance to general coding tasks, and that it increases performance on the specialized coding tasks of the NEAR protocol.\n",
    "\n",
    "A testing protocol to evaluate the 4 models on the same 4 tasks:\n",
    "- human-eval (code challenges)\n",
    "- NEAR Protocol questioning (e.g. What is the Nightshade Sharding?)\n",
    "- dApp trees generation (with comments)\n",
    "- building a basic Near dApp (calendar, snake game...)"
   ]
  },
  {
   "cell_type": "code",
   "execution_count": null,
   "id": "049576fb",
   "metadata": {},
   "outputs": [],
   "source": []
  }
 ],
 "metadata": {
  "kernelspec": {
   "display_name": "Python 3 (ipykernel)",
   "language": "python",
   "name": "python3"
  },
  "language_info": {
   "codemirror_mode": {
    "name": "ipython",
    "version": 3
   },
   "file_extension": ".py",
   "mimetype": "text/x-python",
   "name": "python",
   "nbconvert_exporter": "python",
   "pygments_lexer": "ipython3",
   "version": "3.11.7"
  }
 },
 "nbformat": 4,
 "nbformat_minor": 5
}
