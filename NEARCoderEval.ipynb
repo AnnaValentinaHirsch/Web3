{
 "cells": [
  {
   "cell_type": "markdown",
   "id": "53584db8",
   "metadata": {},
   "source": [
    "# NEARCoder2-3B compared evaluation\n",
    "\n",
    "The NEARCoder is built on StarCoder2-3B. In this notebook, we are evaluating the model performance by comparing it with the baseline model and each of the building steps:\n",
    "- StarCoder2-3B\n",
    "- NEAR-preTrainedStarCoder2\n",
    "- NEAR-structTunedStarCoder2\n",
    "- NEARCoder2-3b\n",
    "\n",
    "Our primary focus will be to ensure that the model doesn't lose performance to general coding tasks, and that it increases performance on the specialized coding tasks of the NEAR protocol."
   ]
  },
  {
   "cell_type": "code",
   "execution_count": null,
   "id": "049576fb",
   "metadata": {},
   "outputs": [],
   "source": []
  }
 ],
 "metadata": {
  "kernelspec": {
   "display_name": "Python 3 (ipykernel)",
   "language": "python",
   "name": "python3"
  },
  "language_info": {
   "codemirror_mode": {
    "name": "ipython",
    "version": 3
   },
   "file_extension": ".py",
   "mimetype": "text/x-python",
   "name": "python",
   "nbconvert_exporter": "python",
   "pygments_lexer": "ipython3",
   "version": "3.11.7"
  }
 },
 "nbformat": 4,
 "nbformat_minor": 5
}
