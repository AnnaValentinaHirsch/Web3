{
 "cells": [
  {
   "cell_type": "code",
   "execution_count": null,
   "id": "2516fefb-45f6-4812-8ef0-53bbdde29971",
   "metadata": {},
   "outputs": [],
   "source": [
    "#!pip install toml flask flask_cors requests beautifulsoup4 PyGithub retry \n",
    "import toml\n",
    "import pandas as pd\n",
    "import numpy as np\n",
    "import time\n",
    "\n",
    "import os\n",
    "import re\n",
    "from datetime import datetime\n",
    "from github import Github, RateLimitExceededException\n",
    "from bs4 import BeautifulSoup\n",
    "import requests\n",
    "from requests.exceptions import RequestException\n",
    "from retry import retry\n",
    "\n",
    "from flask import Flask, request, jsonify\n",
    "from flask_cors import CORS\n",
    "\n",
    "from pathlib import Path\n",
    "from transformers import AutoTokenizer"
   ]
  },
  {
   "cell_type": "markdown",
   "id": "98e0715d-0346-44c2-914d-e4ef1981e09b",
   "metadata": {},
   "source": [
    "### Get a clean list of GitHub Repositories of Near code"
   ]
  },
  {
   "cell_type": "code",
   "execution_count": null,
   "id": "16e1cf17-dc70-41dc-8377-f1fcf7cd691e",
   "metadata": {},
   "outputs": [],
   "source": [
    "# load data from Electric Capital https://github.com/electric-capital/crypto-ecosystems/blob/master/data/ecosystems/n/near.toml \n",
    "data = toml.load(\"near.toml\")\n",
    "print(data)"
   ]
  },
  {
   "cell_type": "code",
   "execution_count": null,
   "id": "9e42be34-6e0b-4909-997a-4e3c2b1f0b37",
   "metadata": {},
   "outputs": [],
   "source": [
    "data = pd.DataFrame(data['repo'])\n",
    "data.head()"
   ]
  },
  {
   "cell_type": "code",
   "execution_count": null,
   "id": "55098061-10ba-4574-9b49-a8b6d07499b1",
   "metadata": {},
   "outputs": [],
   "source": [
    "data.isna().sum()\n",
    "# no interesting info in 'missing' and 'tags' columns"
   ]
  },
  {
   "cell_type": "code",
   "execution_count": null,
   "id": "72b433ad-2b81-417c-b9e6-e7a414b22104",
   "metadata": {},
   "outputs": [],
   "source": [
    "data.columns"
   ]
  },
  {
   "cell_type": "code",
   "execution_count": null,
   "id": "2de7d2b7-d9c0-487e-aba0-ba82d613ea04",
   "metadata": {},
   "outputs": [],
   "source": [
    "data = data.drop(columns = ['missing', 'tags'])\n",
    "data.head()"
   ]
  },
  {
   "cell_type": "code",
   "execution_count": null,
   "id": "759515fb-4533-4f7b-950d-d73da42aa6fe",
   "metadata": {},
   "outputs": [],
   "source": [
    "# clean duplicated repo (create new column 'name' + break url + delete duplicated name)\n",
    "data['name'] = data['url']\n",
    "data.head()"
   ]
  },
  {
   "cell_type": "code",
   "execution_count": null,
   "id": "7f9e079c-c3bc-4bab-86cd-e809b921f04d",
   "metadata": {},
   "outputs": [],
   "source": [
    "for index, value in enumerate(data['name']):\n",
    "    value = value.split('/')\n",
    "    value = value[-1]\n",
    "    data.at[index, 'name'] = value\n",
    "\n",
    "print(len(data))\n",
    "data.head()"
   ]
  },
  {
   "cell_type": "code",
   "execution_count": null,
   "id": "d700cb9b-43b1-41ed-8b15-dbd4fa06741f",
   "metadata": {},
   "outputs": [],
   "source": [
    "# are there duplicated repos?\n",
    "data['name'].value_counts()"
   ]
  },
  {
   "cell_type": "code",
   "execution_count": null,
   "id": "d82c41e6-29de-47bb-b829-2ba32afc78d5",
   "metadata": {},
   "outputs": [],
   "source": [
    "# what is the total of duplicated rows\n",
    "print(data['name'].duplicated().sum())"
   ]
  },
  {
   "cell_type": "code",
   "execution_count": null,
   "id": "a7c824d6-513c-4fa7-8048-aab83065ae14",
   "metadata": {},
   "outputs": [],
   "source": [
    "# at the end, there should be x unique rows\n",
    "print(len(data) - data['name'].duplicated().sum())"
   ]
  },
  {
   "cell_type": "code",
   "execution_count": null,
   "id": "50da638b-607e-4a08-a555-9a0aa8f48517",
   "metadata": {},
   "outputs": [],
   "source": [
    "# what is the number of unique values in the name column?\n",
    "print(len(data['name'].unique()))"
   ]
  },
  {
   "cell_type": "code",
   "execution_count": null,
   "id": "30dce8ce-82c5-4368-8284-ecb1c24167fa",
   "metadata": {},
   "outputs": [],
   "source": [
    "# Delete duplicated repo name while keeping the original repo from Near (maintained)\n",
    "rootUrl = 'https://github.com/near/'\n",
    "\n",
    "# Filter rows based on the root url in the url column\n",
    "filtered_data = data[data['url'].str.startswith(rootUrl)]\n",
    "\n",
    "# Drop duplicates in the 'name' column while keeping the first occurrence\n",
    "unique_names = filtered_data.drop_duplicates(subset=['name'])\n",
    "\n",
    "# delete all duplicates in the original data frame\n",
    "data = data.drop_duplicates(subset=['name'])\n",
    "\n",
    "# replace the url with the original url from filtered data\n",
    "for index, row in filtered_data.iterrows():\n",
    "    # Find rows in data where the 'name' column matches the value in filtered_data\n",
    "    condition = data['name'] == row['name']\n",
    "    # Replace values in 'url' column of data with 'url' from filtered_data\n",
    "    data.loc[condition, 'url'] = row['url']\n",
    "\n",
    "print(len(data))\n",
    "\n",
    "# verify by printing the url for name 'near-sdk-rs'\n",
    "print(data[data['name'] == 'near-sdk-rs'])"
   ]
  },
  {
   "cell_type": "code",
   "execution_count": null,
   "id": "7c56001d-aef5-44dc-8f8c-5c8e6db895c9",
   "metadata": {},
   "outputs": [],
   "source": [
    "#reset index\n",
    "data.reset_index(drop=True)"
   ]
  },
  {
   "cell_type": "code",
   "execution_count": null,
   "id": "7064c191-9b60-47c3-8bf4-696049ea0564",
   "metadata": {},
   "outputs": [],
   "source": [
    "# iterate over urls to scrape GitHub repo\n",
    "for index, urls in data['url'].items():\n",
    "    print(index,urls)"
   ]
  },
  {
   "cell_type": "code",
   "execution_count": null,
   "id": "3cc8de89-be3e-459d-a804-f7e9476be82f",
   "metadata": {},
   "outputs": [],
   "source": [
    "data.index[data['url'] == 'https://github.com/howmarketing/fluxus-app-front'].tolist()"
   ]
  },
  {
   "cell_type": "code",
   "execution_count": null,
   "id": "b3cc0089-9968-4cc6-a9ea-cd179c6ae26c",
   "metadata": {},
   "outputs": [],
   "source": [
    "for index, url in data['url'].iloc[5242:].items():\n",
    "    # Perform your operations here\n",
    "    print(index, url)"
   ]
  },
  {
   "cell_type": "markdown",
   "id": "573c9758-c4f5-4872-a7c2-2b520035de21",
   "metadata": {},
   "source": [
    "### Launch the RepoToText app locally, and scrape the GitHub repositories in dataframe\n",
    "https://github.com/JeremiahPetersen/RepoToText"
   ]
  },
  {
   "cell_type": "code",
   "execution_count": null,
   "id": "371b2960-a836-4662-b5dc-b1206552698e",
   "metadata": {},
   "outputs": [],
   "source": [
    "#removing the sending of text into df because file is saved locally\n",
    "#data['repototext'] = ''\n",
    "\n",
    "for index, url in data['url'].iloc[5243:].items():\n",
    "    # Construct the payload\n",
    "    payload = {\n",
    "        'repoUrl': url,\n",
    "        'docUrl': '',  # Optional: Documentation URL\n",
    "        'selectedFileTypes': ['.apk','.rs','.toml','.txt','.py','.js','.sql','.env','.json','.html','.css','.md','.ts','.java','.cpp','.c','.cs','.php','.rb','.xml','.yml','.sh','.swift','.h','.pyw','.asm','.bat','.cmd','.cls','.coffee','.erb','.go','.groovy','.htaccess','.java','.jsp','.lua','.make','.matlab','.pas','.perl','.pl','.ps1','.r','.scala','.scm','.sln','.svg','.vb','.vbs','.xhtml','.xsl',] # all files\n",
    "    }\n",
    "    \n",
    "    # Send POST request to the Flask app\n",
    "    try:\n",
    "        print(index, url)\n",
    "        response = requests.post('http://localhost:5000/scrape', json=payload)\n",
    "        if response.status_code == 200:\n",
    "            # Assuming the response contains the scraped text in a 'response' field\n",
    "            scraped_text = response.json().get('response', '')\n",
    "            \n",
    "            # Append the scraped text to the DataFrame\n",
    "            # Assuming 'repototext' column already exists\n",
    "            #data.loc[data['url'] == url, 'repototext'] = scraped_text\n",
    "        else:\n",
    "            print(f\"Failed to scrape {url}. Status code: {response.status_code}\")\n",
    "    except Exception as e:\n",
    "        print(f\"Error occurred while scraping {url}: {e}\")\n",
    "    \n",
    "    # Sleep for a few seconds to avoid hitting the server too frequently\n",
    "    #time.sleep(3)\n",
    "\n",
    "# Now data DataFrame contains the scraped text in the 'repototext' column"
   ]
  },
  {
   "cell_type": "code",
   "execution_count": null,
   "id": "81ee3990-45c0-487e-b7bc-91c20021ae48",
   "metadata": {},
   "outputs": [],
   "source": [
    "data.head()"
   ]
  },
  {
   "cell_type": "code",
   "execution_count": null,
   "id": "0121488f-8a59-424a-ae2d-70763ed25ade",
   "metadata": {},
   "outputs": [],
   "source": [
    "print(data['repototext'].iloc[1418])"
   ]
  },
  {
   "cell_type": "code",
   "execution_count": null,
   "id": "40faea7e-b8a2-404c-b8d8-0d4eaefb60c9",
   "metadata": {},
   "outputs": [],
   "source": [
    "data.to_csv('nearCode.csv', index=False)"
   ]
  },
  {
   "cell_type": "code",
   "execution_count": null,
   "id": "44c57fed-dd31-44b0-a710-ec5277ee5246",
   "metadata": {},
   "outputs": [],
   "source": [
    "#clean the scraped files from duplicated code\n",
    "#clean the dataframe from successful scraping and failed scraping\n",
    "#loop over failed scraping to collect more apps."
   ]
  },
  {
   "cell_type": "code",
   "execution_count": null,
   "id": "e06d67fc",
   "metadata": {},
   "outputs": [],
   "source": []
  },
  {
   "cell_type": "code",
   "execution_count": null,
   "id": "eab86868",
   "metadata": {},
   "outputs": [],
   "source": []
  },
  {
   "cell_type": "code",
   "execution_count": null,
   "id": "22c71fc5",
   "metadata": {},
   "outputs": [],
   "source": []
  }
 ],
 "metadata": {
  "kernelspec": {
   "display_name": "Python 3 (ipykernel)",
   "language": "python",
   "name": "python3"
  },
  "language_info": {
   "codemirror_mode": {
    "name": "ipython",
    "version": 3
   },
   "file_extension": ".py",
   "mimetype": "text/x-python",
   "name": "python",
   "nbconvert_exporter": "python",
   "pygments_lexer": "ipython3",
   "version": "3.11.7"
  }
 },
 "nbformat": 4,
 "nbformat_minor": 5
}
